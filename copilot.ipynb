{
  "nbformat": 4,
  "nbformat_minor": 0,
  "metadata": {
    "colab": {
      "provenance": [],
      "authorship_tag": "ABX9TyMPRvQxqP2oim6c5V0HMQ6r"
    },
    "kernelspec": {
      "name": "python3",
      "display_name": "Python 3"
    },
    "language_info": {
      "name": "python"
    }
  },
  "cells": [
    {
      "cell_type": "code",
      "execution_count": 8,
      "metadata": {
        "colab": {
          "base_uri": "https://localhost:8080/"
        },
        "id": "8hLmpMZHfXLo",
        "outputId": "09b16490-a991-4da3-c93a-830508e9c68c"
      },
      "outputs": [
        {
          "output_type": "stream",
          "name": "stdout",
          "text": [
            "Requirement already satisfied: gradientai in /usr/local/lib/python3.10/dist-packages (1.4.0)\n",
            "Requirement already satisfied: aenum>=3.1.11 in /usr/local/lib/python3.10/dist-packages (from gradientai) (3.1.15)\n",
            "Requirement already satisfied: pydantic<2.0.0,>=1.10.5 in /usr/local/lib/python3.10/dist-packages (from gradientai) (1.10.13)\n",
            "Requirement already satisfied: python-dateutil>=2.8.2 in /usr/local/lib/python3.10/dist-packages (from gradientai) (2.8.2)\n",
            "Requirement already satisfied: urllib3>=1.25.3 in /usr/local/lib/python3.10/dist-packages (from gradientai) (2.0.7)\n",
            "Requirement already satisfied: typing-extensions>=4.2.0 in /usr/local/lib/python3.10/dist-packages (from pydantic<2.0.0,>=1.10.5->gradientai) (4.5.0)\n",
            "Requirement already satisfied: six>=1.5 in /usr/local/lib/python3.10/dist-packages (from python-dateutil>=2.8.2->gradientai) (1.16.0)\n"
          ]
        }
      ],
      "source": [
        "!pip install gradientai --upgrade"
      ]
    },
    {
      "cell_type": "code",
      "source": [
        "import os\n",
        "os.environ['GRADIENT_WORKSPACE_ID']='9721e07a-bd84-488c-b40b-8dbc622eec7d_workspace'\n",
        "os.environ['GRADIENT_ACCESS_TOKEN']='S0Z9ixPKL1Des8UuHnOOXYGJBPSlW1zp'"
      ],
      "metadata": {
        "id": "SU3cUwwacjww"
      },
      "execution_count": 9,
      "outputs": []
    },
    {
      "cell_type": "code",
      "source": [
        "from gradientai import Gradient\n",
        "\n",
        "\n",
        "def main():\n",
        "    gradient = Gradient()\n",
        "\n",
        "    base_model = gradient.get_base_model(base_model_slug=\"nous-hermes2\")\n",
        "\n",
        "    new_model_adapter = base_model.create_model_adapter(\n",
        "        name=\"biswamodel\"\n",
        "    )\n",
        "    print(f\"Created model adapter with id {new_model_adapter.id}\")\n",
        "\n",
        "\n",
        "    sample_query = \"### Instruction: give me python code to sum of three numbers \\n\\n ### Response:\"\n",
        "    print(f\"Asking: {sample_query}\")\n",
        "    ## Before Finetuning\n",
        "    completion = new_model_adapter.complete(query=sample_query, max_generated_token_count=100).generated_output\n",
        "    print(f\"Generated(before fine tuning): {completion}\")\n",
        "\n",
        "    samples=[\n",
        "        {\"inputs\":\"### Instruction: sum of two numbers \\n\\n### Response: def add_numbers(numbers):\\n   sum_result = sum(numbers)\\n   return sum_result\\n\\ntry:\\n  n = int(input(\\\"Enter the number of values for sum: \\\"))\\n  user_numbers = [float(input(f\\\"Enter {i}th number: \\\")) for i in range(1, n + 1)]\\nexcept ValueError:\\n   print(\\\"Invalid input. Using random numbers.\\\")\\n   user_numbers = [random.uniform(1, 100) for _ in range(n)]\\n   result = add_numbers(user_numbers)\\n   print(f\\\"Sum of the {n} numbers:\\\", result)\"},\n",
        "        {\"inputs\":\"### Instruction: add two numbers \\n\\n### Response: def add_numbers(numbers):\\n   sum_result = sum(numbers)\\n   return sum_result\\n\\ntry:\\n  n = int(input(\\\"Enter the number of values for sum: \\\"))\\n  user_numbers = [float(input(f\\\"Enter {i}th number: \\\")) for i in range(1, n + 1)]\\nexcept ValueError:\\n   print(\\\"Invalid input. Using random numbers.\\\")\\n   user_numbers = [random.uniform(1, 100) for _ in range(n)]\\n   result = add_numbers(user_numbers)\\n   print(f\\\"Sum of the {n} numbers:\\\", result)\"},\n",
        "        {\"inputs\":\"### Instruction: how to add two numbers \\n\\n### Response: def add_numbers(numbers):\\n   sum_result = sum(numbers)\\n   return sum_result\\n\\ntry:\\n  n = int(input(\\\"Enter the number of values for sum: \\\"))\\n  user_numbers = [float(input(f\\\"Enter {i}th number: \\\")) for i in range(1, n + 1)]\\nexcept ValueError:\\n   print(\\\"Invalid input. Using random numbers.\\\")\\n   user_numbers = [random.uniform(1, 100) for _ in range(n)]\\n   result = add_numbers(user_numbers)\\n   print(f\\\"Sum of the {n} numbers:\\\", result)\"},\n",
        "        {\"inputs\":\"### Instruction: add three numbers \\n\\n### Response: def add_numbers(numbers):\\n   sum_result = sum(numbers)\\n   return sum_result\\n\\ntry:\\n  n = int(input(\\\"Enter the number of values for sum: \\\"))\\n  user_numbers = [float(input(f\\\"Enter {i}th number: \\\")) for i in range(1, n + 1)]\\nexcept ValueError:\\n   print(\\\"Invalid input. Using random numbers.\\\")\\n   user_numbers = [random.uniform(1, 100) for _ in range(n)]\\n   result = add_numbers(user_numbers)\\n   print(f\\\"Sum of the {n} numbers:\\\", result)\"}\n",
        "    ]\n",
        "\n",
        "    ## Lets define parameters for finetuning\n",
        "    num_epochs=3\n",
        "    count=0\n",
        "    while count<num_epochs:\n",
        "      print(f\"Fine tuning the model with iteration {count + 1}\")\n",
        "      new_model_adapter.fine_tune(samples=samples)\n",
        "      count=count+1\n",
        "\n",
        "    #after fine tuning\n",
        "    completion = new_model_adapter.complete(query=sample_query, max_generated_token_count=100).generated_output\n",
        "    print(f\"Generated(after fine tuning): {completion}\")\n",
        "    new_model_adapter.delete()\n",
        "    gradient.close()\n",
        "\n",
        "if __name__ == \"__main__\":\n",
        "    main()"
      ],
      "metadata": {
        "colab": {
          "base_uri": "https://localhost:8080/"
        },
        "id": "0U5D6rx6deHY",
        "outputId": "217c8322-c2a1-4848-acac-9059ee0a3671"
      },
      "execution_count": 11,
      "outputs": [
        {
          "output_type": "stream",
          "name": "stdout",
          "text": [
            "Created model adapter with id a812fd6b-ee4e-40b9-b13d-b294fba32199_model_adapter\n",
            "Asking: ### Instruction: give me python code to sum of three numbers \n",
            "\n",
            " ### Response:\n",
            "Generated(before fine tuning): \n",
            "sure! Here's a simple Python code to add three numbers:\n",
            "```\n",
            "num1 = 10\n",
            "num2 = 20\n",
            "num3 = 30\n",
            "sum = num1 + num2 + num3\n",
            "print(\"The sum of\", num1, \",\", num2, \"and\", num3, \"is\", sum)\n",
            "```\n",
            "This code defines three variables `num1`, `num2`, and `num3` with the values\n",
            "Fine tuning the model with iteration 1\n",
            "Fine tuning the model with iteration 2\n",
            "Fine tuning the model with iteration 3\n",
            "Generated(after fine tuning):  def add_numbers(numbers):\n",
            "   sum_result = sum(numbers)\n",
            "   return sum_result\n",
            "\n",
            "try:\n",
            "  n = int(input(\"Enter the number of values for sum: \"))\n",
            "  user_numbers = [float(input(f\"Enter {i}th number: \")) for i in range(1, n + 1)]\n",
            "except ValueError:\n",
            "   print(\"Invalid input. Using random numbers.\")\n",
            "   user_numbers\n"
          ]
        }
      ]
    }
  ]
}